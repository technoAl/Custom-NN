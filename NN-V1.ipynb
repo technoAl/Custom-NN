{
 "cells": [
  {
   "cell_type": "code",
   "execution_count": 1,
   "metadata": {},
   "outputs": [],
   "source": [
    "import numpy as np\n",
    "import scipy.special"
   ]
  },
  {
   "cell_type": "code",
   "execution_count": 14,
   "metadata": {},
   "outputs": [],
   "source": [
    "class NeuralNetwork:\n",
    "    \n",
    "    def __init__(self, input_nodes, hidden_nodes, output_nodes, learning_rate):\n",
    "        self.inodes = input_nodes\n",
    "        self.hnodes = hidden_nodes\n",
    "        self.onodes = output_nodes\n",
    "        \n",
    "        self.lr = learning_rate\n",
    "        \n",
    "        self.activation_function = lambda x:scipy.special.expit(x);\n",
    "        \n",
    "        # weights between -0.5 & 0.5\n",
    "        self.weights_input_hidden = (np.random.rand(self.hnodes, self.inodes) - 0.5)\n",
    "        self.weights_hidden_output = (np.random.rand(self.onodes, self.hnodes) - 0.5)\n",
    "        \n",
    "        # weights distributed normally around 0.0\n",
    "        self.weights_input_hidden_distributed = np.random.normal(0.0, pow(self.inodes, -0.5), (self.hnodes, self.inodes))\n",
    "        self.weights_hidden_output_distributed = np.random.normal(0.0, pow(self.hnodes, -0.5), (self.onodes, self.hnodes))\n",
    "    \n",
    "    def train(self, inputs_list, tagets_list):\n",
    "        inputs = np.array(inputs_list, ndmin=2).T\n",
    "        targets = np.array(targets_list, ndmin=2).T\n",
    "        \n",
    "        #calculate signals into hidden layer\n",
    "        hidden_inputs = np.dot(self.weights_input_hidden, inputs)\n",
    "        \n",
    "        #calculate signals emerging from hidden layer\n",
    "        hidden_outputs = self.activation_function(hidden_inputs)\n",
    "        \n",
    "        #calculate signals into final output layer\n",
    "        final_inputs = np.dot(self.weights_hidden_output, hidden_outputs)\n",
    "        \n",
    "        final_outputs = self.activation_function(final_inputs)\n",
    "        \n",
    "        #error is the (target - actual)\n",
    "        output_errors = targets - final_outputs\n",
    "        \n",
    "        #hidden layer error is the output_errors, split by weights, recombined at hidden nodes\n",
    "        hidden_errors = np.dot(self.weights_hidden_output, output_errors)\n",
    "        \n",
    "        #update the weights for the links between the hidden and output layers\n",
    "        self.weights_hidden_output += self.lr * np.dot((output_errors * final_outputs * (1.0 - final_outputs)), np.transpose(hidden_outputs))\n",
    "        \n",
    "        #update the weights for the links between the input and hidden layers\n",
    "        self.weights_input_hidden += self.lr * np.dot((hidden_errors * hidden_outputs * (1.0 - hidden_outputs)), np.transpose(inputs))\n",
    "    \n",
    "    def query(self, input_list):\n",
    "        \n",
    "        # convert inputs list to 2d array & transpose\n",
    "        inputs = np.array(input_list, ndmin=2).T\n",
    "        \n",
    "        #print(inputs)\n",
    "        \n",
    "        #calculate signals into hidden layer\n",
    "        hidden_inputs = np.dot(self.weights_input_hidden, inputs)\n",
    "        \n",
    "        #calculate signals emerging from hidden layer\n",
    "        hidden_outputs = self.activation_function(hidden_inputs)\n",
    "        \n",
    "        #calculate signals into final output layer\n",
    "        final_inputs = np.dot(self.weights_hidden_output, hidden_outputs)\n",
    "        \n",
    "        final_outputs = self.activation_function(final_inputs)\n",
    "        \n",
    "        return final_outputs\n",
    "    \n",
    "    def summary(self):\n",
    "        print(\"amt_input_nodes:\", self.inodes)\n",
    "        print(\"amt_hidden_nodes:\", self.hnodes)\n",
    "        print(\"amt_output_nodes:\", self.onodes)\n",
    "        print(\"learning_rate:\", self.lr)"
   ]
  },
  {
   "cell_type": "code",
   "execution_count": 15,
   "metadata": {},
   "outputs": [
    {
     "name": "stdout",
     "output_type": "stream",
     "text": [
      "amt_input_nodes: 3\n",
      "amt_hidden_nodes: 3\n",
      "amt_output_nodes: 3\n",
      "learning_rate: 0.3\n"
     ]
    }
   ],
   "source": [
    "input_nodes = 3\n",
    "hidden_nodes = 3\n",
    "output_nodes = 3\n",
    "learning_rate = 0.3\n",
    "\n",
    "test = NeuralNetwork(input_nodes, hidden_nodes, output_nodes, learning_rate)\n",
    "test.summary()"
   ]
  },
  {
   "cell_type": "code",
   "execution_count": 16,
   "metadata": {},
   "outputs": [
    {
     "data": {
      "text/plain": [
       "array([[0.48439562],\n",
       "       [0.58937125],\n",
       "       [0.52003599]])"
      ]
     },
     "execution_count": 16,
     "metadata": {},
     "output_type": "execute_result"
    }
   ],
   "source": [
    "test.query([1.0, 0.5, -1.5])"
   ]
  },
  {
   "cell_type": "code",
   "execution_count": null,
   "metadata": {},
   "outputs": [],
   "source": []
  }
 ],
 "metadata": {
  "kernelspec": {
   "display_name": "Python 3",
   "language": "python",
   "name": "python3"
  },
  "language_info": {
   "codemirror_mode": {
    "name": "ipython",
    "version": 3
   },
   "file_extension": ".py",
   "mimetype": "text/x-python",
   "name": "python",
   "nbconvert_exporter": "python",
   "pygments_lexer": "ipython3",
   "version": "3.6.8"
  }
 },
 "nbformat": 4,
 "nbformat_minor": 4
}
