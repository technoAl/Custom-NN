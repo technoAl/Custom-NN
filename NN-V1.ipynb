{
 "cells": [
  {
   "cell_type": "code",
   "execution_count": 7,
   "metadata": {},
   "outputs": [],
   "source": [
    "class NeuralNetwork:\n",
    "    \n",
    "    def __init__(self, input_nodes, hidden_nodes, output_nodes, learning_rate):\n",
    "        self.inodes = input_nodes\n",
    "        self.hnodes = hidden_nodes\n",
    "        self.onodes = output_nodes\n",
    "        self.lr = learning_rate\n",
    "        \n",
    "        self.weight_input_hidden = (numpy.random.rand(self.hnodes, self.inodes) - 0.5)\n",
    "        self.weight_hidden_output = (numpy.random.rand(self.onodes, self.hnodes) - 0.5)\n",
    "        pass\n",
    "    \n",
    "    def train():\n",
    "        pass\n",
    "    \n",
    "    def qury():\n",
    "        pass\n",
    "    \n",
    "    def summary(self):\n",
    "        print(\"amt_input_nodes:\", self.inodes)\n",
    "        print(\"amt_hidden_nodes:\", self.hnodes)\n",
    "        print(\"amt_output_nodes:\", self.onodes)\n",
    "        print(\"learning_rate:\", self.lr)"
   ]
  },
  {
   "cell_type": "code",
   "execution_count": 8,
   "metadata": {},
   "outputs": [
    {
     "name": "stdout",
     "output_type": "stream",
     "text": [
      "amt_input_nodes: 3\n",
      "amt_hidden_nodes: 3\n",
      "amt_output_nodes: 3\n",
      "learning_rate: 0.3\n"
     ]
    }
   ],
   "source": [
    "input_nodes = 3\n",
    "hidden_nodes = 3\n",
    "output_nodes = 3\n",
    "learning_rate = 0.3\n",
    "\n",
    "test = NeuralNetwork(input_nodes, hidden_nodes, output_nodes, learning_rate)\n",
    "test.summary()"
   ]
  },
  {
   "cell_type": "code",
   "execution_count": null,
   "metadata": {},
   "outputs": [],
   "source": []
  }
 ],
 "metadata": {
  "kernelspec": {
   "display_name": "Python 3",
   "language": "python",
   "name": "python3"
  },
  "language_info": {
   "codemirror_mode": {
    "name": "ipython",
    "version": 3
   },
   "file_extension": ".py",
   "mimetype": "text/x-python",
   "name": "python",
   "nbconvert_exporter": "python",
   "pygments_lexer": "ipython3",
   "version": "3.6.8"
  }
 },
 "nbformat": 4,
 "nbformat_minor": 4
}
